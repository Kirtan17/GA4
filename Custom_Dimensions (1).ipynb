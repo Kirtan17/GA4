{
  "cells": [
    {
      "cell_type": "markdown",
      "metadata": {
        "id": "TjrCxyuaHic0"
      },
      "source": [
        "Here's a step-by-step guide to setting up authentication for the GA4 API in Python:\n",
        "\n",
        "1. Create a Google Cloud Project and enable the API:\n",
        "\n",
        "Go to the Google Cloud Console (https://console.cloud.google.com/) and create a new project or select an existing one.\n",
        "In the navigation menu, go to \"APIs & Services\" > \"Library\".\n",
        "Search for \"Google Analytics Data API\" and enable it.\n",
        "2. Create a Service Account:\n",
        "\n",
        "Go to \"APIs & Services\" > \"Credentials\".\n",
        "Click \"Create credentials\" > \"Service account\".\n",
        "Give it a name and a description, and click \"Done\".\n",
        "Click \"Manage service accounts\" and select the newly created account.\n",
        "Go to the \"Keys\" tab and click \"Add key\" > \"Create new key\".\n",
        "Select \"JSON\" as the key type and click \"Create\". This will download a JSON file containing the service account credentials.\n",
        "3. Grant the Service Account Access to GA4:\n",
        "\n",
        "Go to your GA4 property in the Google Analytics interface.\n",
        "Click \"Admin\" > \"Property Access Management\".\n",
        "Click \"Add users\" > \"Add users\".\n",
        "Enter the service account's email address (found in the JSON file) and grant it \"Editor\" access.\n",
        "\n",
        "####**Try it on some demo account before implementing on the client**"
      ]
    },
    {
      "cell_type": "code",
      "execution_count": null,
      "metadata": {
        "id": "wNwkNBnRN5b6"
      },
      "outputs": [],
      "source": [
        "# Create custom dimensions\n",
        "\n",
        "import pandas as pd\n",
        "import google.oauth2.service_account\n",
        "from googleapiclient.discovery import build\n",
        "\n",
        "\n",
        "# Authentication and API setup\n",
        "credentials = google.oauth2.service_account.Credentials.from_service_account_file(\n",
        "    'path_to_your_secret_key_json_file',\n",
        "    scopes=['https://www.googleapis.com/auth/analytics.edit']\n",
        ")\n",
        "\n",
        "admin = build('analyticsadmin', 'v1alpha', credentials=credentials)\n",
        "property_id = 'your_property_id'\n",
        "\n",
        "# Read values from excel sheet\n",
        "df = pd.read_excel('path_to_dimensions_excel_sheet')\n",
        "\n",
        "column_name1 = 'Dimension Name'\n",
        "column_values1 = df[column_name1]\n",
        "\n",
        "column_name2 = 'Parameter Name'\n",
        "column_values2 = df[column_name2]\n",
        "\n",
        "column_name3 = 'Display Name'\n",
        "column_values3 = df[column_name3]\n",
        "\n",
        "column_name4 = 'Description'\n",
        "column_values4 = df[column_name4]\n",
        "\n",
        "column_name5 = 'Scope'\n",
        "column_values5 = df[column_name5]\n",
        "\n",
        "for i in range(len(column_values1)):\n",
        "  # Custom dimension details\n",
        "  dimension_name = column_values1[i]\n",
        "  parameter_name = column_values2[i]\n",
        "  display_name = column_values3[i]\n",
        "  description = column_values4[i]\n",
        "  scope = column_values5[i]\n",
        "  custom_dimension = admin.properties().customDimensions().create(\n",
        "    parent=f'properties/{property_id}',\n",
        "    body={\n",
        "        'parameter_name': parameter_name,\n",
        "        'display_name': display_name,\n",
        "        'description': description,\n",
        "        'scope': scope\n",
        "    }\n",
        "  ).execute()\n",
        "\n",
        "print('Custom dimensions created!')"
      ]
    }
  ],
  "metadata": {
    "colab": {
      "provenance": []
    },
    "kernelspec": {
      "display_name": "Python 3",
      "name": "python3"
    },
    "language_info": {
      "name": "python"
    }
  },
  "nbformat": 4,
  "nbformat_minor": 0
}
